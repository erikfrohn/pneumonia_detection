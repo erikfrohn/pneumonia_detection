{
 "cells": [
  {
   "cell_type": "code",
   "execution_count": 12,
   "metadata": {},
   "outputs": [],
   "source": [
    "import os\n",
    "from pathlib import Path\n",
    "import pandas as pd\n",
    "import matplotlib.pyplot as plt"
   ]
  },
  {
   "cell_type": "markdown",
   "metadata": {},
   "source": [
    "## Importing the data"
   ]
  },
  {
   "cell_type": "code",
   "execution_count": 11,
   "metadata": {},
   "outputs": [
    {
     "name": "stdout",
     "output_type": "stream",
     "text": [
      "(624, 2) (5216, 2) (16, 2)\n"
     ]
    },
    {
     "data": {
      "text/html": [
       "<div>\n",
       "<style scoped>\n",
       "    .dataframe tbody tr th:only-of-type {\n",
       "        vertical-align: middle;\n",
       "    }\n",
       "\n",
       "    .dataframe tbody tr th {\n",
       "        vertical-align: top;\n",
       "    }\n",
       "\n",
       "    .dataframe thead th {\n",
       "        text-align: right;\n",
       "    }\n",
       "</style>\n",
       "<table border=\"1\" class=\"dataframe\">\n",
       "  <thead>\n",
       "    <tr style=\"text-align: right;\">\n",
       "      <th></th>\n",
       "      <th>img</th>\n",
       "      <th>label</th>\n",
       "    </tr>\n",
       "  </thead>\n",
       "  <tbody>\n",
       "    <tr>\n",
       "      <th>0</th>\n",
       "      <td>input/train/PNEUMONIA/person299_bacteria_1418....</td>\n",
       "      <td>1</td>\n",
       "    </tr>\n",
       "    <tr>\n",
       "      <th>1</th>\n",
       "      <td>input/train/PNEUMONIA/person1415_virus_2425.jpeg</td>\n",
       "      <td>1</td>\n",
       "    </tr>\n",
       "    <tr>\n",
       "      <th>2</th>\n",
       "      <td>input/train/NORMAL/NORMAL2-IM-0416-0001-0002.jpeg</td>\n",
       "      <td>0</td>\n",
       "    </tr>\n",
       "    <tr>\n",
       "      <th>3</th>\n",
       "      <td>input/train/NORMAL/NORMAL2-IM-0757-0001.jpeg</td>\n",
       "      <td>0</td>\n",
       "    </tr>\n",
       "    <tr>\n",
       "      <th>4</th>\n",
       "      <td>input/train/PNEUMONIA/person1924_bacteria_4833...</td>\n",
       "      <td>1</td>\n",
       "    </tr>\n",
       "  </tbody>\n",
       "</table>\n",
       "</div>"
      ],
      "text/plain": [
       "                                                 img  label\n",
       "0  input/train/PNEUMONIA/person299_bacteria_1418....      1\n",
       "1   input/train/PNEUMONIA/person1415_virus_2425.jpeg      1\n",
       "2  input/train/NORMAL/NORMAL2-IM-0416-0001-0002.jpeg      0\n",
       "3       input/train/NORMAL/NORMAL2-IM-0757-0001.jpeg      0\n",
       "4  input/train/PNEUMONIA/person1924_bacteria_4833...      1"
      ]
     },
     "execution_count": 11,
     "metadata": {},
     "output_type": "execute_result"
    }
   ],
   "source": [
    "# Data location\n",
    "data_dir = Path('./input')\n",
    "\n",
    "# training\n",
    "train_dir = data_dir / 'train'\n",
    "\n",
    "train_pneumonia = [['input/train/PNEUMONIA/' + i, 1]  for i in os.listdir(train_dir / 'PNEUMONIA') if i.endswith(\".jpeg\")]\n",
    "train_healthy   = [['input/train/NORMAL/' + i, 0]     for i in os.listdir(train_dir / 'NORMAL') if i.endswith(\".jpeg\")]\n",
    "train_pneumonia.extend(train_healthy)\n",
    "\n",
    "df_train = pd.DataFrame(train_pneumonia, columns = ['img', 'label'], index=None)\n",
    "df_train = df_train.sample(frac=1, random_state=42).reset_index(drop=True)\n",
    "\n",
    "# validation\n",
    "val_dir = data_dir / 'val'\n",
    "\n",
    "val_pneumonia = [['input/val/PNEUMONIA/' + i, 1]  for i in os.listdir(val_dir / 'PNEUMONIA') if i.endswith(\".jpeg\")]\n",
    "val_healthy   = [['input/val/NORMAL/' + i, 0]     for i in os.listdir(val_dir / 'NORMAL') if i.endswith(\".jpeg\")]\n",
    "val_pneumonia.extend(val_healthy)\n",
    "\n",
    "df_val = pd.DataFrame(val_pneumonia, columns = ['img', 'label'], index=None)\n",
    "df_val = df_val.sample(frac=1, random_state=42).reset_index(drop=True)\n",
    "\n",
    "# test\n",
    "test_dir = data_dir / 'test'\n",
    "\n",
    "test_pneumonia = [['input/test/PNEUMONIA/' + i, 1]  for i in os.listdir(test_dir / 'PNEUMONIA') if i.endswith(\".jpeg\")]\n",
    "test_healthy   = [['input/test/NORMAL/' + i, 0]     for i in os.listdir(test_dir / 'NORMAL') if i.endswith(\".jpeg\")]\n",
    "test_pneumonia.extend(test_healthy)\n",
    "\n",
    "df_test = pd.DataFrame(test_pneumonia, columns = ['img', 'label'], index=None)\n",
    "df_test = df_test.sample(frac=1, random_state=42).reset_index(drop=True)\n",
    "print(df_test.shape, df_train.shape, df_val.shape)\n",
    "df_train.head()"
   ]
  },
  {
   "cell_type": "code",
   "execution_count": 19,
   "metadata": {},
   "outputs": [
    {
     "name": "stdout",
     "output_type": "stream",
     "text": [
      "label\n",
      "1    3875\n",
      "0    1341\n",
      "Name: count, dtype: int64 label\n",
      "1    8\n",
      "0    8\n",
      "Name: count, dtype: int64 label\n",
      "1    390\n",
      "0    234\n",
      "Name: count, dtype: int64\n"
     ]
    }
   ],
   "source": [
    "train_counts = df_train['label'].value_counts()\n",
    "val_counts = df_val['label'].value_counts()\n",
    "test_counts = df_test['label'].value_counts()\n",
    "print(train_counts, val_counts, test_counts)"
   ]
  },
  {
   "cell_type": "code",
   "execution_count": null,
   "metadata": {},
   "outputs": [],
   "source": []
  }
 ],
 "metadata": {
  "kernelspec": {
   "display_name": "Python 3",
   "language": "python",
   "name": "python3"
  },
  "language_info": {
   "codemirror_mode": {
    "name": "ipython",
    "version": 3
   },
   "file_extension": ".py",
   "mimetype": "text/x-python",
   "name": "python",
   "nbconvert_exporter": "python",
   "pygments_lexer": "ipython3",
   "version": "3.10.11"
  }
 },
 "nbformat": 4,
 "nbformat_minor": 2
}
