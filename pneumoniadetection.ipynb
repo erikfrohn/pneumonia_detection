{
 "cells": [
  {
   "cell_type": "code",
   "execution_count": 9,
   "metadata": {},
   "outputs": [],
   "source": [
    "import os\n",
    "from pathlib import Path\n",
    "import pandas as pd"
   ]
  },
  {
   "cell_type": "markdown",
   "metadata": {},
   "source": [
    "## Importing the data"
   ]
  },
  {
   "cell_type": "code",
   "execution_count": 13,
   "metadata": {},
   "outputs": [
    {
     "name": "stdout",
     "output_type": "stream",
     "text": [
      "['IM-0001-0001.jpeg', 'IM-0003-0001.jpeg', 'IM-0005-0001.jpeg', 'IM-0006-0001.jpeg', 'IM-0007-0001.jpeg', 'IM-0009-0001.jpeg', 'IM-0010-0001.jpeg', 'IM-0011-0001-0001.jpeg', 'IM-0011-0001-0002.jpeg', 'IM-0011-0001.jpeg', 'IM-0013-0001.jpeg', 'IM-0015-0001.jpeg', 'IM-0016-0001.jpeg', 'IM-0017-0001.jpeg', 'IM-0019-0001.jpeg', 'IM-0021-0001.jpeg', 'IM-0022-0001.jpeg', 'IM-0023-0001.jpeg', 'IM-0025-0001.jpeg', 'IM-0027-0001.jpeg', 'IM-0028-0001.jpeg', 'IM-0029-0001.jpeg', 'IM-0030-0001.jpeg', 'IM-0031-0001.jpeg', 'IM-0033-0001-0001.jpeg', 'IM-0033-0001-0002.jpeg', 'IM-0033-0001.jpeg', 'IM-0035-0001.jpeg', 'IM-0036-0001.jpeg', 'IM-0037-0001.jpeg', 'IM-0039-0001.jpeg', 'IM-0041-0001.jpeg', 'IM-0043-0001.jpeg', 'IM-0045-0001.jpeg', 'IM-0046-0001.jpeg', 'IM-0049-0001.jpeg', 'IM-0050-0001.jpeg', 'IM-0059-0001.jpeg', 'IM-0061-0001.jpeg', 'IM-0063-0001.jpeg', 'IM-0065-0001.jpeg', 'IM-0067-0001.jpeg', 'IM-0069-0001.jpeg', 'IM-0070-0001.jpeg', 'IM-0071-0001.jpeg', 'IM-0073-0001.jpeg', 'IM-0075-0001.jpeg', 'IM-0077-0001.jpeg', 'IM-0079-0001.jpeg', 'IM-0081-0001.jpeg', 'IM-0083-0001.jpeg', 'IM-0084-0001.jpeg', 'IM-0085-0001.jpeg', 'IM-0086-0001.jpeg', 'IM-0087-0001.jpeg', 'IM-0089-0001.jpeg', 'IM-0091-0001.jpeg', 'IM-0093-0001.jpeg', 'IM-0095-0001.jpeg', 'IM-0097-0001.jpeg', 'IM-0099-0001.jpeg', 'IM-0101-0001.jpeg', 'IM-0102-0001.jpeg', 'IM-0103-0001.jpeg', 'IM-0105-0001.jpeg', 'IM-0107-0001.jpeg', 'IM-0109-0001.jpeg', 'IM-0110-0001.jpeg', 'IM-0111-0001.jpeg', 'NORMAL2-IM-0007-0001.jpeg', 'NORMAL2-IM-0012-0001.jpeg', 'NORMAL2-IM-0013-0001.jpeg', 'NORMAL2-IM-0019-0001.jpeg', 'NORMAL2-IM-0023-0001.jpeg', 'NORMAL2-IM-0027-0001.jpeg', 'NORMAL2-IM-0028-0001.jpeg', 'NORMAL2-IM-0029-0001.jpeg', 'NORMAL2-IM-0030-0001.jpeg', 'NORMAL2-IM-0033-0001.jpeg', 'NORMAL2-IM-0035-0001.jpeg', 'NORMAL2-IM-0041-0001.jpeg', 'NORMAL2-IM-0045-0001.jpeg', 'NORMAL2-IM-0051-0001.jpeg', 'NORMAL2-IM-0052-0001.jpeg', 'NORMAL2-IM-0058-0001.jpeg', 'NORMAL2-IM-0059-0001.jpeg', 'NORMAL2-IM-0060-0001.jpeg', 'NORMAL2-IM-0066-0001.jpeg', 'NORMAL2-IM-0072-0001.jpeg', 'NORMAL2-IM-0073-0001.jpeg', 'NORMAL2-IM-0079-0001.jpeg', 'NORMAL2-IM-0081-0001.jpeg', 'NORMAL2-IM-0086-0001.jpeg', 'NORMAL2-IM-0092-0001.jpeg', 'NORMAL2-IM-0095-0001.jpeg', 'NORMAL2-IM-0096-0001.jpeg', 'NORMAL2-IM-0098-0001.jpeg', 'NORMAL2-IM-0102-0001.jpeg', 'NORMAL2-IM-0105-0001.jpeg', 'NORMAL2-IM-0107-0001.jpeg', 'NORMAL2-IM-0110-0001.jpeg', 'NORMAL2-IM-0111-0001.jpeg', 'NORMAL2-IM-0112-0001.jpeg', 'NORMAL2-IM-0117-0001.jpeg', 'NORMAL2-IM-0120-0001.jpeg', 'NORMAL2-IM-0123-0001.jpeg', 'NORMAL2-IM-0129-0001.jpeg', 'NORMAL2-IM-0130-0001.jpeg', 'NORMAL2-IM-0131-0001.jpeg', 'NORMAL2-IM-0132-0001.jpeg', 'NORMAL2-IM-0135-0001.jpeg', 'NORMAL2-IM-0139-0001.jpeg', 'NORMAL2-IM-0141-0001.jpeg', 'NORMAL2-IM-0145-0001.jpeg', 'NORMAL2-IM-0146-0001.jpeg', 'NORMAL2-IM-0150-0001.jpeg', 'NORMAL2-IM-0171-0001.jpeg', 'NORMAL2-IM-0173-0001-0001.jpeg', 'NORMAL2-IM-0173-0001-0002.jpeg', 'NORMAL2-IM-0195-0001.jpeg', 'NORMAL2-IM-0196-0001.jpeg', 'NORMAL2-IM-0198-0001.jpeg', 'NORMAL2-IM-0199-0001.jpeg', 'NORMAL2-IM-0201-0001.jpeg', 'NORMAL2-IM-0206-0001.jpeg', 'NORMAL2-IM-0207-0001.jpeg', 'NORMAL2-IM-0210-0001.jpeg', 'NORMAL2-IM-0213-0001.jpeg', 'NORMAL2-IM-0217-0001.jpeg', 'NORMAL2-IM-0219-0001.jpeg', 'NORMAL2-IM-0221-0001.jpeg', 'NORMAL2-IM-0222-0001.jpeg', 'NORMAL2-IM-0229-0001.jpeg', 'NORMAL2-IM-0232-0001.jpeg', 'NORMAL2-IM-0233-0001.jpeg', 'NORMAL2-IM-0237-0001.jpeg', 'NORMAL2-IM-0238-0001.jpeg', 'NORMAL2-IM-0241-0001.jpeg', 'NORMAL2-IM-0246-0001-0001.jpeg', 'NORMAL2-IM-0246-0001-0002.jpeg', 'NORMAL2-IM-0246-0001.jpeg', 'NORMAL2-IM-0249-0001.jpeg', 'NORMAL2-IM-0251-0001.jpeg', 'NORMAL2-IM-0252-0001.jpeg', 'NORMAL2-IM-0256-0001.jpeg', 'NORMAL2-IM-0259-0001.jpeg', 'NORMAL2-IM-0267-0001.jpeg', 'NORMAL2-IM-0271-0001.jpeg', 'NORMAL2-IM-0272-0001.jpeg', 'NORMAL2-IM-0273-0001.jpeg', 'NORMAL2-IM-0274-0001.jpeg', 'NORMAL2-IM-0275-0001.jpeg', 'NORMAL2-IM-0276-0001.jpeg', 'NORMAL2-IM-0277-0001.jpeg', 'NORMAL2-IM-0278-0001.jpeg', 'NORMAL2-IM-0279-0001.jpeg', 'NORMAL2-IM-0280-0001.jpeg', 'NORMAL2-IM-0281-0001.jpeg', 'NORMAL2-IM-0282-0001.jpeg', 'NORMAL2-IM-0283-0001.jpeg', 'NORMAL2-IM-0285-0001.jpeg', 'NORMAL2-IM-0286-0001.jpeg', 'NORMAL2-IM-0287-0001.jpeg', 'NORMAL2-IM-0288-0001.jpeg', 'NORMAL2-IM-0289-0001.jpeg', 'NORMAL2-IM-0290-0001.jpeg', 'NORMAL2-IM-0292-0001.jpeg', 'NORMAL2-IM-0294-0001.jpeg', 'NORMAL2-IM-0297-0001.jpeg', 'NORMAL2-IM-0300-0001.jpeg', 'NORMAL2-IM-0301-0001.jpeg', 'NORMAL2-IM-0302-0001.jpeg', 'NORMAL2-IM-0303-0001.jpeg', 'NORMAL2-IM-0304-0001.jpeg', 'NORMAL2-IM-0305-0001.jpeg', 'NORMAL2-IM-0307-0001.jpeg', 'NORMAL2-IM-0309-0001.jpeg', 'NORMAL2-IM-0310-0001.jpeg', 'NORMAL2-IM-0311-0001.jpeg', 'NORMAL2-IM-0312-0001.jpeg', 'NORMAL2-IM-0313-0001.jpeg', 'NORMAL2-IM-0315-0001.jpeg', 'NORMAL2-IM-0316-0001.jpeg', 'NORMAL2-IM-0317-0001.jpeg', 'NORMAL2-IM-0319-0001.jpeg', 'NORMAL2-IM-0321-0001.jpeg', 'NORMAL2-IM-0322-0001.jpeg', 'NORMAL2-IM-0323-0001.jpeg', 'NORMAL2-IM-0325-0001.jpeg', 'NORMAL2-IM-0326-0001.jpeg', 'NORMAL2-IM-0327-0001.jpeg', 'NORMAL2-IM-0328-0001.jpeg', 'NORMAL2-IM-0329-0001.jpeg', 'NORMAL2-IM-0330-0001.jpeg', 'NORMAL2-IM-0331-0001.jpeg', 'NORMAL2-IM-0332-0001.jpeg', 'NORMAL2-IM-0333-0001.jpeg', 'NORMAL2-IM-0335-0001.jpeg', 'NORMAL2-IM-0336-0001.jpeg', 'NORMAL2-IM-0337-0001.jpeg', 'NORMAL2-IM-0338-0001.jpeg', 'NORMAL2-IM-0339-0001.jpeg', 'NORMAL2-IM-0340-0001.jpeg', 'NORMAL2-IM-0341-0001.jpeg', 'NORMAL2-IM-0343-0001.jpeg', 'NORMAL2-IM-0345-0001.jpeg', 'NORMAL2-IM-0346-0001.jpeg', 'NORMAL2-IM-0347-0001.jpeg', 'NORMAL2-IM-0348-0001.jpeg', 'NORMAL2-IM-0349-0001.jpeg', 'NORMAL2-IM-0350-0001.jpeg', 'NORMAL2-IM-0351-0001.jpeg', 'NORMAL2-IM-0352-0001.jpeg', 'NORMAL2-IM-0353-0001.jpeg', 'NORMAL2-IM-0354-0001.jpeg', 'NORMAL2-IM-0357-0001.jpeg', 'NORMAL2-IM-0359-0001.jpeg', 'NORMAL2-IM-0360-0001.jpeg', 'NORMAL2-IM-0361-0001.jpeg', 'NORMAL2-IM-0362-0001.jpeg', 'NORMAL2-IM-0364-0001.jpeg', 'NORMAL2-IM-0366-0001.jpeg', 'NORMAL2-IM-0368-0001.jpeg', 'NORMAL2-IM-0369-0001.jpeg', 'NORMAL2-IM-0370-0001.jpeg', 'NORMAL2-IM-0372-0001.jpeg', 'NORMAL2-IM-0373-0001.jpeg', 'NORMAL2-IM-0374-0001-0001.jpeg', 'NORMAL2-IM-0374-0001-0002.jpeg', 'NORMAL2-IM-0374-0001.jpeg', 'NORMAL2-IM-0376-0001.jpeg', 'NORMAL2-IM-0378-0001.jpeg', 'NORMAL2-IM-0380-0001.jpeg', 'NORMAL2-IM-0381-0001.jpeg']\n"
     ]
    }
   ],
   "source": [
    "# Define path to the data directory\n",
    "data_dir = Path('./input')\n",
    "\n",
    "# Path to train directory (Fancy pathlib...no more os.path!!)\n",
    "train_dir = data_dir / 'train'\n",
    "\n",
    "# Path to validation directory\n",
    "val_dir = data_dir / 'val'\n",
    "\n",
    "# Path to test directory\n",
    "test_dir = data_dir / 'test'\n",
    "\n",
    "print(os.listdir(test_dir / 'NORMAL'))"
   ]
  },
  {
   "cell_type": "code",
   "execution_count": 34,
   "metadata": {},
   "outputs": [
    {
     "data": {
      "text/html": [
       "<div>\n",
       "<style scoped>\n",
       "    .dataframe tbody tr th:only-of-type {\n",
       "        vertical-align: middle;\n",
       "    }\n",
       "\n",
       "    .dataframe tbody tr th {\n",
       "        vertical-align: top;\n",
       "    }\n",
       "\n",
       "    .dataframe thead th {\n",
       "        text-align: right;\n",
       "    }\n",
       "</style>\n",
       "<table border=\"1\" class=\"dataframe\">\n",
       "  <thead>\n",
       "    <tr style=\"text-align: right;\">\n",
       "      <th></th>\n",
       "      <th>index</th>\n",
       "      <th>img</th>\n",
       "      <th>label</th>\n",
       "    </tr>\n",
       "  </thead>\n",
       "  <tbody>\n",
       "    <tr>\n",
       "      <th>0</th>\n",
       "      <td>1897</td>\n",
       "      <td>input/train/PNEUMONIA/person299_bacteria_1418....</td>\n",
       "      <td>1</td>\n",
       "    </tr>\n",
       "    <tr>\n",
       "      <th>1</th>\n",
       "      <td>877</td>\n",
       "      <td>input/train/PNEUMONIA/person1415_virus_2425.jpeg</td>\n",
       "      <td>1</td>\n",
       "    </tr>\n",
       "    <tr>\n",
       "      <th>2</th>\n",
       "      <td>4503</td>\n",
       "      <td>input/train/NORMAL/NORMAL2-IM-0416-0001-0002.jpeg</td>\n",
       "      <td>0</td>\n",
       "    </tr>\n",
       "    <tr>\n",
       "      <th>3</th>\n",
       "      <td>4725</td>\n",
       "      <td>input/train/NORMAL/NORMAL2-IM-0757-0001.jpeg</td>\n",
       "      <td>0</td>\n",
       "    </tr>\n",
       "    <tr>\n",
       "      <th>4</th>\n",
       "      <td>1595</td>\n",
       "      <td>input/train/PNEUMONIA/person1924_bacteria_4833...</td>\n",
       "      <td>1</td>\n",
       "    </tr>\n",
       "  </tbody>\n",
       "</table>\n",
       "</div>"
      ],
      "text/plain": [
       "   index                                                img  label\n",
       "0   1897  input/train/PNEUMONIA/person299_bacteria_1418....      1\n",
       "1    877   input/train/PNEUMONIA/person1415_virus_2425.jpeg      1\n",
       "2   4503  input/train/NORMAL/NORMAL2-IM-0416-0001-0002.jpeg      0\n",
       "3   4725       input/train/NORMAL/NORMAL2-IM-0757-0001.jpeg      0\n",
       "4   1595  input/train/PNEUMONIA/person1924_bacteria_4833...      1"
      ]
     },
     "execution_count": 34,
     "metadata": {},
     "output_type": "execute_result"
    }
   ],
   "source": [
    "# training\n",
    "train_pneumonia = [['input/train/PNEUMONIA/' + i, 1]  for i in os.listdir(train_dir / 'PNEUMONIA') if i.endswith(\".jpeg\")]\n",
    "train_healthy   = [['input/train/NORMAL/' + i, 0]     for i in os.listdir(train_dir / 'NORMAL') if i.endswith(\".jpeg\")]\n",
    "train_pneumonia.extend(train_healthy)\n",
    "\n",
    "df_train = pd.DataFrame(train_pneumonia, columns = ['img', 'label'], index=None)\n",
    "df_train = df_train.sample(frac=1, random_state=42).reset_index()\n",
    "\n",
    "# validation\n",
    "val_pneumonia = [['input/val/PNEUMONIA/' + i, 1]  for i in os.listdir(val_dir / 'PNEUMONIA') if i.endswith(\".jpeg\")]\n",
    "val_healthy   = [['input/val/NORMAL/' + i, 0]     for i in os.listdir(val_dir / 'NORMAL') if i.endswith(\".jpeg\")]\n",
    "val_pneumonia.extend(val_healthy)\n",
    "\n",
    "df_val = pd.DataFrame(val_pneumonia, columns = ['img', 'label'], index=None)\n",
    "df_val = df_val.sample(frac=1, random_state=42).reset_index()\n",
    "\n",
    "# test\n",
    "train_pneumonia = [['input/train/PNEUMONIA/' + i, 1]  for i in os.listdir(train_dir / 'PNEUMONIA') if i.endswith(\".jpeg\")]\n",
    "train_healthy   = [['input/train/NORMAL/' + i, 0]     for i in os.listdir(train_dir / 'NORMAL') if i.endswith(\".jpeg\")]\n",
    "train_pneumonia.extend(train_healthy)\n",
    "\n",
    "df_train = pd.DataFrame(train_pneumonia, columns = ['img', 'label'], index=None)\n",
    "df_train = df_train.sample(frac=1, random_state=42).reset_index()\n",
    "df_train.head()"
   ]
  },
  {
   "cell_type": "code",
   "execution_count": 11,
   "metadata": {},
   "outputs": [
    {
     "data": {
      "text/html": [
       "<div>\n",
       "<style scoped>\n",
       "    .dataframe tbody tr th:only-of-type {\n",
       "        vertical-align: middle;\n",
       "    }\n",
       "\n",
       "    .dataframe tbody tr th {\n",
       "        vertical-align: top;\n",
       "    }\n",
       "\n",
       "    .dataframe thead th {\n",
       "        text-align: right;\n",
       "    }\n",
       "</style>\n",
       "<table border=\"1\" class=\"dataframe\">\n",
       "  <thead>\n",
       "    <tr style=\"text-align: right;\">\n",
       "      <th></th>\n",
       "      <th>image</th>\n",
       "      <th>label</th>\n",
       "    </tr>\n",
       "  </thead>\n",
       "  <tbody>\n",
       "    <tr>\n",
       "      <th>0</th>\n",
       "      <td>input\\train\\PNEUMONIA\\person1693_bacteria_4485...</td>\n",
       "      <td>1</td>\n",
       "    </tr>\n",
       "    <tr>\n",
       "      <th>1</th>\n",
       "      <td>input\\train\\NORMAL\\IM-0528-0001.jpeg</td>\n",
       "      <td>0</td>\n",
       "    </tr>\n",
       "    <tr>\n",
       "      <th>2</th>\n",
       "      <td>input\\train\\NORMAL\\NORMAL2-IM-0851-0001-0002.jpeg</td>\n",
       "      <td>0</td>\n",
       "    </tr>\n",
       "    <tr>\n",
       "      <th>3</th>\n",
       "      <td>input\\train\\NORMAL\\NORMAL2-IM-1047-0001.jpeg</td>\n",
       "      <td>0</td>\n",
       "    </tr>\n",
       "    <tr>\n",
       "      <th>4</th>\n",
       "      <td>input\\train\\NORMAL\\NORMAL2-IM-0929-0001.jpeg</td>\n",
       "      <td>0</td>\n",
       "    </tr>\n",
       "  </tbody>\n",
       "</table>\n",
       "</div>"
      ],
      "text/plain": [
       "                                               image  label\n",
       "0  input\\train\\PNEUMONIA\\person1693_bacteria_4485...      1\n",
       "1               input\\train\\NORMAL\\IM-0528-0001.jpeg      0\n",
       "2  input\\train\\NORMAL\\NORMAL2-IM-0851-0001-0002.jpeg      0\n",
       "3       input\\train\\NORMAL\\NORMAL2-IM-1047-0001.jpeg      0\n",
       "4       input\\train\\NORMAL\\NORMAL2-IM-0929-0001.jpeg      0"
      ]
     },
     "execution_count": 11,
     "metadata": {},
     "output_type": "execute_result"
    }
   ],
   "source": [
    "# Get the path to the normal and pneumonia sub-directories\n",
    "normal_cases_dir = train_dir / 'NORMAL'\n",
    "pneumonia_cases_dir = train_dir / 'PNEUMONIA'\n",
    "\n",
    "# Get the list of all the images\n",
    "normal_cases = normal_cases_dir.glob('*.jpeg')\n",
    "pneumonia_cases = pneumonia_cases_dir.glob('*.jpeg')\n",
    "\n",
    "# An empty list. We will insert the data into this list in (img_path, label) format\n",
    "train_data = []\n",
    "\n",
    "# Go through all the normal cases. The label for these cases will be 0\n",
    "for img in normal_cases:\n",
    "    train_data.append((img,0))\n",
    "\n",
    "# Go through all the pneumonia cases. The label for these cases will be 1\n",
    "for img in pneumonia_cases:\n",
    "    train_data.append((img, 1))\n",
    "\n",
    "# Get a pandas dataframe from the data we have in our list \n",
    "train_data = pd.DataFrame(train_data, columns=['image', 'label'],index=None)\n",
    "\n",
    "# Shuffle the data \n",
    "train_data = train_data.sample(frac=1.).reset_index(drop=True)\n",
    "\n",
    "# How the dataframe looks like?\n",
    "train_data.head()"
   ]
  },
  {
   "cell_type": "code",
   "execution_count": null,
   "metadata": {},
   "outputs": [],
   "source": []
  }
 ],
 "metadata": {
  "kernelspec": {
   "display_name": "Python 3",
   "language": "python",
   "name": "python3"
  },
  "language_info": {
   "codemirror_mode": {
    "name": "ipython",
    "version": 3
   },
   "file_extension": ".py",
   "mimetype": "text/x-python",
   "name": "python",
   "nbconvert_exporter": "python",
   "pygments_lexer": "ipython3",
   "version": "3.10.11"
  }
 },
 "nbformat": 4,
 "nbformat_minor": 2
}
